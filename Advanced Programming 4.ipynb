{
 "cells": [
  {
   "cell_type": "code",
   "execution_count": 3,
   "id": "1dd74e84",
   "metadata": {},
   "outputs": [],
   "source": [
    "def fib_fast(n):\n",
    "    f1=0\n",
    "    f2=1\n",
    "    count=0\n",
    "    while count < n:\n",
    "        fth = f1 + f2\n",
    "        # update values\n",
    "        f1 = f2\n",
    "        f2 = fth\n",
    "        count += 1\n",
    "    return f1"
   ]
  },
  {
   "cell_type": "code",
   "execution_count": 5,
   "id": "49498c0e",
   "metadata": {},
   "outputs": [
    {
     "data": {
      "text/plain": [
       "55"
      ]
     },
     "execution_count": 5,
     "metadata": {},
     "output_type": "execute_result"
    }
   ],
   "source": [
    "fib_fast(10)"
   ]
  },
  {
   "cell_type": "code",
   "execution_count": 24,
   "id": "0430bb1e",
   "metadata": {},
   "outputs": [],
   "source": [
    "def convert_to_hex(ascii):\n",
    " \n",
    "    # Initialize final String\n",
    "    hexa = \"\"\n",
    " \n",
    "    # Make a loop to iterate through\n",
    "    # every character of ascii string\n",
    "    for i in range(len(ascii)):\n",
    " \n",
    "        # take a char from\n",
    "        # position i of string\n",
    "        ch = ascii[i]\n",
    " \n",
    "        # cast char to integer and\n",
    "        # find its ascii value\n",
    "        in1 = ord(ch)\n",
    "   \n",
    "        # change this ascii value\n",
    "        # integer to hexadecimal value\n",
    "        part = hex(in1).lstrip(\"0x\")\n",
    " \n",
    "        # add this hexadecimal value\n",
    "        # to final string.\n",
    "        hexa += part+' '\n",
    " \n",
    "    # return the final string hex\n",
    "    return hexa"
   ]
  },
  {
   "cell_type": "code",
   "execution_count": 25,
   "id": "e94104f6",
   "metadata": {},
   "outputs": [
    {
     "data": {
      "text/plain": [
       "'68 65 6c 6c 6f 20 77 6f 72 6c 64 '"
      ]
     },
     "execution_count": 25,
     "metadata": {},
     "output_type": "execute_result"
    }
   ],
   "source": [
    "convert_to_hex(\"hello world\")"
   ]
  },
  {
   "cell_type": "code",
   "execution_count": 44,
   "id": "06002295",
   "metadata": {},
   "outputs": [],
   "source": [
    "def uncensor(st1,st2):\n",
    "    new_st=''\n",
    "    counter=0\n",
    "    for i in range(0,len(st1)):\n",
    "        if st1[i]=='*':\n",
    "            new_st+=st2[counter]\n",
    "            counter+=1\n",
    "        else:\n",
    "            new_st+=st1[i]\n",
    "    return new_st\n",
    "    "
   ]
  },
  {
   "cell_type": "code",
   "execution_count": 45,
   "id": "1c4f97f8",
   "metadata": {},
   "outputs": [
    {
     "data": {
      "text/plain": [
       "'Where did my vowels go?'"
      ]
     },
     "execution_count": 45,
     "metadata": {},
     "output_type": "execute_result"
    }
   ],
   "source": [
    "uncensor(\"Wh*r* d*d my v*w*ls g*?\",\"eeioeo\")"
   ]
  },
  {
   "cell_type": "code",
   "execution_count": 53,
   "id": "d53bff54",
   "metadata": {},
   "outputs": [],
   "source": [
    "def get_domain_name(ip_address):\n",
    "    import socket\n",
    "    result=socket.gethostbyaddr(ip_address)\n",
    "    return list(result)[0]\n",
    "           "
   ]
  },
  {
   "cell_type": "code",
   "execution_count": 54,
   "id": "cb3013be",
   "metadata": {},
   "outputs": [
    {
     "data": {
      "text/plain": [
       "'dns.google'"
      ]
     },
     "execution_count": 54,
     "metadata": {},
     "output_type": "execute_result"
    }
   ],
   "source": [
    "get_domain_name(\"8.8.8.8\")"
   ]
  },
  {
   "cell_type": "code",
   "execution_count": 23,
   "id": "23be8e8c",
   "metadata": {
    "scrolled": true
   },
   "outputs": [],
   "source": [
    "def fact_of_fact(number):\n",
    "    mul=1\n",
    "    for i in range(2,number+1):\n",
    "            mul=mul*i\n",
    "    return mul\n"
   ]
  },
  {
   "cell_type": "code",
   "execution_count": 24,
   "id": "609b47c6",
   "metadata": {},
   "outputs": [
    {
     "name": "stdout",
     "output_type": "stream",
     "text": [
      "288\n"
     ]
    }
   ],
   "source": [
    "number=4\n",
    "mul=1\n",
    "for i in range(2,number+1):\n",
    "    mul*=fact_of_fact(i)\n",
    "print(mul)\n"
   ]
  },
  {
   "cell_type": "code",
   "execution_count": null,
   "id": "256d9279",
   "metadata": {},
   "outputs": [],
   "source": []
  }
 ],
 "metadata": {
  "kernelspec": {
   "display_name": "Python 3",
   "language": "python",
   "name": "python3"
  },
  "language_info": {
   "codemirror_mode": {
    "name": "ipython",
    "version": 3
   },
   "file_extension": ".py",
   "mimetype": "text/x-python",
   "name": "python",
   "nbconvert_exporter": "python",
   "pygments_lexer": "ipython3",
   "version": "3.8.8"
  }
 },
 "nbformat": 4,
 "nbformat_minor": 5
}
